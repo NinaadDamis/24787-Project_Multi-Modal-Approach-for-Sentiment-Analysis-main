{
 "cells": [
  {
   "cell_type": "code",
   "execution_count": 1,
   "id": "24c5ee63-bca9-4d77-9c40-48d86a32efd0",
   "metadata": {},
   "outputs": [
    {
     "name": "stdout",
     "output_type": "stream",
     "text": [
      "(5, 2)\n"
     ]
    }
   ],
   "source": [
    "import numpy as np\n",
    "A = []\n",
    "for i in range(5):\n",
    "    A.append(np.array([i + 1, i]))\n",
    "A = np.array(A)\n",
    "print(A.shape)"
   ]
  },
  {
   "cell_type": "code",
   "execution_count": 5,
   "id": "9c26f7f3-ae45-4eca-b629-e9bf707967b6",
   "metadata": {},
   "outputs": [],
   "source": [
    "A = [1 , 2 , 3, 4 ]\n",
    "B = [1, 3, 3, 5]\n",
    "\n",
    "C = (np.array(A > B)).astype(int)"
   ]
  },
  {
   "cell_type": "code",
   "execution_count": 11,
   "id": "6c9cb199-1ab0-4a84-bb7a-c99a2ad652a4",
   "metadata": {},
   "outputs": [],
   "source": [
    "C = np.array([np.array([1, 2]), np.array([3, 4]), np.array([5, 6])])"
   ]
  },
  {
   "cell_type": "code",
   "execution_count": 13,
   "id": "b6823bc3-de5a-4930-9185-41094c395302",
   "metadata": {},
   "outputs": [
    {
     "data": {
      "text/plain": [
       "array([[1, 2],\n",
       "       [3, 4],\n",
       "       [5, 6]])"
      ]
     },
     "execution_count": 13,
     "metadata": {},
     "output_type": "execute_result"
    }
   ],
   "source": [
    "C"
   ]
  },
  {
   "cell_type": "code",
   "execution_count": 8,
   "id": "ef75482e-3126-4107-a9a1-5a6107470b3d",
   "metadata": {},
   "outputs": [
    {
     "ename": "TypeError",
     "evalue": "only integer scalar arrays can be converted to a scalar index",
     "output_type": "error",
     "traceback": [
      "\u001b[1;31m---------------------------------------------------------------------------\u001b[0m",
      "\u001b[1;31mTypeError\u001b[0m                                 Traceback (most recent call last)",
      "\u001b[1;32m<ipython-input-8-b539b4b2aeb5>\u001b[0m in \u001b[0;36m<module>\u001b[1;34m\u001b[0m\n\u001b[1;32m----> 1\u001b[1;33m \u001b[0mA\u001b[0m\u001b[1;33m[\u001b[0m\u001b[0mnp\u001b[0m\u001b[1;33m.\u001b[0m\u001b[0marray\u001b[0m\u001b[1;33m(\u001b[0m\u001b[1;33m[\u001b[0m\u001b[1;36m2\u001b[0m\u001b[1;33m,\u001b[0m \u001b[1;36m3\u001b[0m\u001b[1;33m]\u001b[0m\u001b[1;33m)\u001b[0m\u001b[1;33m]\u001b[0m\u001b[1;33m\u001b[0m\u001b[1;33m\u001b[0m\u001b[0m\n\u001b[0m",
      "\u001b[1;31mTypeError\u001b[0m: only integer scalar arrays can be converted to a scalar index"
     ]
    }
   ],
   "source": [
    "A[np.array([2, 3])]"
   ]
  },
  {
   "cell_type": "code",
   "execution_count": 75,
   "id": "d8e31a56-2ceb-4863-bc50-a35841aa4545",
   "metadata": {},
   "outputs": [],
   "source": [
    "np.random.seed(100)\n",
    "A = np.random.randn()\n",
    "B = np.random.randn()\n",
    "C = np.random.randint(2, size=10) "
   ]
  },
  {
   "cell_type": "code",
   "execution_count": 76,
   "id": "1298fdea-79e0-4600-8937-a0c9467572df",
   "metadata": {},
   "outputs": [
    {
     "name": "stdout",
     "output_type": "stream",
     "text": [
      "-1.7497654730546974 0.34268040332750216\n",
      "[1 1 0 0 0 0 0 1 0 0]\n"
     ]
    }
   ],
   "source": [
    "print(A, B)\n",
    "print(C)"
   ]
  },
  {
   "cell_type": "code",
   "execution_count": 79,
   "id": "6e3b9276-d151-4082-b27d-9ba48c08c51e",
   "metadata": {},
   "outputs": [
    {
     "data": {
      "text/plain": [
       "array([0, 0, 1])"
      ]
     },
     "execution_count": 79,
     "metadata": {},
     "output_type": "execute_result"
    }
   ],
   "source": [
    "C[(np.array([3, 4, 7]))]"
   ]
  },
  {
   "cell_type": "code",
   "execution_count": 81,
   "id": "e739bdd7-1390-4b9a-84a8-c7d74c4a3c62",
   "metadata": {},
   "outputs": [],
   "source": [
    "A = np.array([[2, 4], [6, 8]])"
   ]
  },
  {
   "cell_type": "code",
   "execution_count": 83,
   "id": "7614a57f-735c-4488-af10-2b9fba4a832a",
   "metadata": {},
   "outputs": [
    {
     "data": {
      "text/plain": [
       "(2, 2)"
      ]
     },
     "execution_count": 83,
     "metadata": {},
     "output_type": "execute_result"
    }
   ],
   "source": [
    "A.shape"
   ]
  },
  {
   "cell_type": "code",
   "execution_count": 91,
   "id": "3d212c98-7853-4e2e-a19e-6a51f0549afc",
   "metadata": {},
   "outputs": [],
   "source": [
    "B = np.array([[2], [4]])"
   ]
  },
  {
   "cell_type": "code",
   "execution_count": 92,
   "id": "5350a495-f0db-4edd-8b46-e37e422979a7",
   "metadata": {},
   "outputs": [
    {
     "data": {
      "text/plain": [
       "(1, 2)"
      ]
     },
     "execution_count": 92,
     "metadata": {},
     "output_type": "execute_result"
    }
   ],
   "source": [
    "B.T.shape"
   ]
  },
  {
   "cell_type": "code",
   "execution_count": 93,
   "id": "3a07c13a-ccd1-4c3a-b68c-1cd487e7e057",
   "metadata": {},
   "outputs": [
    {
     "data": {
      "text/plain": [
       "array([[1. , 2. ],\n",
       "       [1.5, 2. ]])"
      ]
     },
     "execution_count": 93,
     "metadata": {},
     "output_type": "execute_result"
    }
   ],
   "source": [
    "A/B"
   ]
  },
  {
   "cell_type": "code",
   "execution_count": 1,
   "id": "5453374b-d7b2-47a3-96e7-3ee3bae7db5b",
   "metadata": {},
   "outputs": [],
   "source": [
    "import numpy as np"
   ]
  },
  {
   "cell_type": "code",
   "execution_count": 35,
   "id": "43793e12-e32a-4d9b-8b3b-8c1da4e00f34",
   "metadata": {},
   "outputs": [],
   "source": [
    "import pickle\n",
    "with open('resultHS.pkl', 'rb') as handle:\n",
    "    processed_imahes = pickle.load(handle)"
   ]
  },
  {
   "cell_type": "code",
   "execution_count": 36,
   "id": "7297a285-da9b-4a50-95d1-da80a01a4c0a",
   "metadata": {},
   "outputs": [
    {
     "data": {
      "text/plain": [
       "98"
      ]
     },
     "execution_count": 36,
     "metadata": {},
     "output_type": "execute_result"
    }
   ],
   "source": [
    "len(processed_imahes)"
   ]
  },
  {
   "cell_type": "code",
   "execution_count": 37,
   "id": "19bf81bf-2143-48cd-beaf-931e96039044",
   "metadata": {},
   "outputs": [
    {
     "data": {
      "text/plain": [
       "array([0.01741112, 0.0691052 , 0.14428128, 0.59051794, 0.02698053,\n",
       "       0.13387102, 0.01783296], dtype=float32)"
      ]
     },
     "execution_count": 37,
     "metadata": {},
     "output_type": "execute_result"
    }
   ],
   "source": [
    "processed_imahes[0]"
   ]
  },
  {
   "cell_type": "code",
   "execution_count": 38,
   "id": "41db33b7-f8ef-4f20-aef1-3c38d1b75f6c",
   "metadata": {},
   "outputs": [],
   "source": [
    "results = []\n",
    "for x in processed_imahes:\n",
    "    results.append(np.argmax(x))"
   ]
  },
  {
   "cell_type": "code",
   "execution_count": 39,
   "id": "aebca1ae-78a3-4c8d-8cb2-a8c5c3333982",
   "metadata": {},
   "outputs": [],
   "source": [
    "final_results = np.array(results)"
   ]
  },
  {
   "cell_type": "code",
   "execution_count": 40,
   "id": "90aa41b9-7e63-4869-92f2-749d3a3bd22a",
   "metadata": {},
   "outputs": [
    {
     "data": {
      "text/plain": [
       "(98,)"
      ]
     },
     "execution_count": 40,
     "metadata": {},
     "output_type": "execute_result"
    }
   ],
   "source": [
    "final_results.shape"
   ]
  },
  {
   "cell_type": "code",
   "execution_count": 43,
   "id": "add12c03-836b-4808-8a28-f1fbd9321d56",
   "metadata": {},
   "outputs": [],
   "source": [
    "C = np.loadtxt('RoCoG_val_list_HS.txt', dtype=np.str)"
   ]
  },
  {
   "cell_type": "code",
   "execution_count": 44,
   "id": "ee3553f7-9c1c-4e3a-b194-640551106e57",
   "metadata": {},
   "outputs": [
    {
     "data": {
      "text/plain": [
       "(98, 3)"
      ]
     },
     "execution_count": 44,
     "metadata": {},
     "output_type": "execute_result"
    }
   ],
   "source": [
    "C.shape"
   ]
  },
  {
   "cell_type": "code",
   "execution_count": 50,
   "id": "9326836c-5794-49a7-88b9-b1cf35db1363",
   "metadata": {},
   "outputs": [],
   "source": [
    "C = np.array([[1228, 19 ,   0  ,  2  , 51 ,   0   ,12],\n",
    " [ 136 , 111  ,  0   , 0 ,  63  ,  0  , 24],\n",
    " [  42 ,   3  ,  0   , 2   , 6    ,0   ,13],\n",
    " [ 170 ,  10   , 0   , 9  , 11   , 0  , 12],\n",
    " [ 171 ,  16   , 1   , 1  ,207   , 0  , 39],\n",
    " [  45 ,   6  ,  0   , 1  ,  5   , 0   ,11],\n",
    " [ 140  , 21  ,  0  ,  1  , 54   , 0   ,99]])"
   ]
  },
  {
   "cell_type": "code",
   "execution_count": 62,
   "id": "bd5c3411-e008-4bc2-9aaf-ee5cb174bb43",
   "metadata": {},
   "outputs": [],
   "source": [
    "C = np.array([[1162,   52,   98],\n",
    " [ 192 , 281 , 133],\n",
    " [ 345 ,  71 , 408]])"
   ]
  },
  {
   "cell_type": "code",
   "execution_count": 4,
   "id": "1c4e9bc4-2731-42ac-ba18-59eb35170c05",
   "metadata": {},
   "outputs": [
    {
     "name": "stderr",
     "output_type": "stream",
     "text": [
      "C:\\Users\\saisi\\anaconda3\\envs\\sidenv\\lib\\site-packages\\ipykernel_launcher.py:1: DeprecationWarning: `np.int` is a deprecated alias for the builtin `int`. To silence this warning, use `int` by itself. Doing this will not modify any behavior and is safe. When replacing `np.int`, you may wish to use e.g. `np.int64` or `np.int32` to specify the precision. If you wish to review your current use, check the release note link for additional information.\n",
      "Deprecated in NumPy 1.20; for more details and guidance: https://numpy.org/devdocs/release/1.20.0-notes.html#deprecations\n",
      "  \"\"\"Entry point for launching an IPython kernel.\n"
     ]
    }
   ],
   "source": [
    "GT = C[:,2].astype(np.int)"
   ]
  },
  {
   "cell_type": "code",
   "execution_count": 5,
   "id": "2abc6587-1f06-4ac1-be45-141aae51ea30",
   "metadata": {},
   "outputs": [
    {
     "data": {
      "text/plain": [
       "(7,)"
      ]
     },
     "execution_count": 5,
     "metadata": {},
     "output_type": "execute_result"
    }
   ],
   "source": [
    "GT.shape"
   ]
  },
  {
   "cell_type": "code",
   "execution_count": 47,
   "id": "2574f2ab-bee6-4a64-ac92-ee52da7fc02c",
   "metadata": {},
   "outputs": [
    {
     "name": "stdout",
     "output_type": "stream",
     "text": [
      "0.8877551020408163\n"
     ]
    }
   ],
   "source": [
    "conf_matrix = np.zeros((7, 7))\n",
    "for i in range(98):\n",
    "    x = final_results[i]\n",
    "    y = GT[i]\n",
    "    conf_matrix[y, x] = conf_matrix[y, x] + 1\n",
    "    \n",
    "for j in range(7):\n",
    "        # print(np.sum(conf_matrix[j, :]))\n",
    "        conf_matrix[j, :] = conf_matrix[j, :]/np.sum(conf_matrix[j, :])\n",
    "\n",
    "# print(np.sum(conf_matrix[:, 1]))\n",
    "    # print(conf_matrix.shape)\n",
    "accuracy = np.trace(conf_matrix)/np.sum(conf_matrix)\n",
    "print(accuracy)"
   ]
  },
  {
   "cell_type": "code",
   "execution_count": 43,
   "id": "c021b65b-1642-42c7-ab83-e83e0fbf3db5",
   "metadata": {},
   "outputs": [],
   "source": [
    "conf_matrix = np.load('style7.npy')"
   ]
  },
  {
   "cell_type": "code",
   "execution_count": 64,
   "id": "bc292f1a-804b-40ae-b6c8-91b14977db04",
   "metadata": {},
   "outputs": [],
   "source": [
    "conf_matrix = C"
   ]
  },
  {
   "cell_type": "code",
   "execution_count": 65,
   "id": "26dbe1e9-d7e0-4da0-8988-e03a30d57bbe",
   "metadata": {},
   "outputs": [
    {
     "name": "stdout",
     "output_type": "stream",
     "text": [
      "[[1162   52   98]\n",
      " [ 192  281  133]\n",
      " [ 345   71  408]]\n"
     ]
    }
   ],
   "source": [
    "print(conf_matrix)"
   ]
  },
  {
   "cell_type": "code",
   "execution_count": 66,
   "id": "4b73e6a7-0562-4fda-9b2a-65324e32d225",
   "metadata": {},
   "outputs": [
    {
     "name": "stdout",
     "output_type": "stream",
     "text": [
      "0.885670731707317\n",
      "0.039634146341463415\n",
      "0.07469512195121951\n",
      "0.31683168316831684\n",
      "0.4636963696369637\n",
      "0.21947194719471946\n",
      "0.4186893203883495\n",
      "0.08616504854368932\n",
      "0.49514563106796117\n"
     ]
    }
   ],
   "source": [
    "conf_matrix2 = np.zeros((3, 3))\n",
    "for j in range(3):\n",
    "        sum1 = np.sum(conf_matrix[j, :])\n",
    "        for i in range(3):\n",
    "            print((float)(conf_matrix[j, i])/sum1)\n",
    "            conf_matrix2[j, i] = (float)(conf_matrix[j, i])/sum1\n"
   ]
  },
  {
   "cell_type": "code",
   "execution_count": 67,
   "id": "f81209ca-04de-451d-81d0-3211df0f6882",
   "metadata": {},
   "outputs": [
    {
     "name": "stdout",
     "output_type": "stream",
     "text": [
      "[[0.88567073 0.03963415 0.07469512]\n",
      " [0.31683168 0.46369637 0.21947195]\n",
      " [0.41868932 0.08616505 0.49514563]]\n"
     ]
    }
   ],
   "source": [
    "print(conf_matrix2)"
   ]
  },
  {
   "cell_type": "code",
   "execution_count": 69,
   "id": "3b6a4c04-bb49-4ec8-8e5d-b9d6a0495b98",
   "metadata": {},
   "outputs": [
    {
     "data": {
      "text/plain": [
       "Text(33.0, 0.5, 'True Labels')"
      ]
     },
     "execution_count": 69,
     "metadata": {},
     "output_type": "execute_result"
    },
    {
     "data": {
      "image/png": "[encoded data removed]",
      "text/plain": [
       "<Figure size 432x288 with 2 Axes>"
      ]
     },
     "metadata": {
      "needs_background": "light"
     },
     "output_type": "display_data"
    }
   ],
   "source": [
    "import seaborn as sns\n",
    "A = sns.heatmap(conf_matrix2, annot=True, xticklabels = ['neutral', 'positive', 'negative'], yticklabels = [ 'neutral', 'positive', 'negative'], cmap='Blues')\n",
    "A.set_xlabel(\"Predicted Labels\")\n",
    "A.set_ylabel(\"True Labels\")"
   ]
  },
  {
   "cell_type": "code",
   "execution_count": 13,
   "id": "9d40ab4f-126e-4d2c-835a-ae3b2b726527",
   "metadata": {},
   "outputs": [
    {
     "data": {
      "text/plain": [
       "Text(32.99999999999999, 0.5, 'True Labels')"
      ]
     },
     "execution_count": 13,
     "metadata": {},
     "output_type": "execute_result"
    },
    {
     "data": {
      "image/png": "[encoded data removed]",
      "text/plain": [
       "<Figure size 432x288 with 2 Axes>"
      ]
     },
     "metadata": {
      "needs_background": "light"
     },
     "output_type": "display_data"
    }
   ],
   "source": [
    "import seaborn as sns\n",
    "A = sns.heatmap(conf_matrix, annot=True, xticklabels = [ 'idle', 'MoveInReverse', 'Halt', 'Attention', 'Advance', 'FollowMe', 'Rally', 'MoveForward'], yticklabels = [ 'idle', 'MoveInReverse', 'Halt', 'Attention', 'Advance', 'FollowMe', 'Rally', 'MoveForward'], cmap='Blues')\n",
    "A.set_xlabel(\"Predicted Labels\")\n",
    "A.set_ylabel(\"True Labels\")"
   ]
  },
  {
   "cell_type": "code",
   "execution_count": 7,
   "id": "50ba738d-a10a-4a9e-bbd0-f7bd3ce5584f",
   "metadata": {},
   "outputs": [
    {
     "ename": "AttributeError",
     "evalue": "module 'pandas' has no attribute 'core'",
     "output_type": "error",
     "traceback": [
      "\u001b[1;31m---------------------------------------------------------------------------\u001b[0m",
      "\u001b[1;31mAttributeError\u001b[0m                            Traceback (most recent call last)",
      "\u001b[1;32m<ipython-input-7-193fd6c93726>\u001b[0m in \u001b[0;36m<module>\u001b[1;34m\u001b[0m\n\u001b[1;32m----> 1\u001b[1;33m \u001b[1;32mimport\u001b[0m \u001b[0mseaborn\u001b[0m \u001b[1;32mas\u001b[0m \u001b[0msns\u001b[0m\u001b[1;33m\u001b[0m\u001b[1;33m\u001b[0m\u001b[0m\n\u001b[0m\u001b[0;32m      2\u001b[0m \u001b[0mA\u001b[0m \u001b[1;33m=\u001b[0m \u001b[0msns\u001b[0m\u001b[1;33m.\u001b[0m\u001b[0mheatmap\u001b[0m\u001b[1;33m(\u001b[0m\u001b[0mconf_matrix\u001b[0m\u001b[1;33m,\u001b[0m \u001b[0mannot\u001b[0m\u001b[1;33m=\u001b[0m\u001b[1;32mTrue\u001b[0m\u001b[1;33m,\u001b[0m \u001b[0mxticklabels\u001b[0m \u001b[1;33m=\u001b[0m \u001b[1;33m[\u001b[0m \u001b[1;34m'idle'\u001b[0m\u001b[1;33m,\u001b[0m \u001b[1;34m'MoveInReverse'\u001b[0m\u001b[1;33m,\u001b[0m \u001b[1;34m'Halt'\u001b[0m\u001b[1;33m,\u001b[0m \u001b[1;34m'Attention'\u001b[0m\u001b[1;33m,\u001b[0m \u001b[1;34m'Advance'\u001b[0m\u001b[1;33m,\u001b[0m \u001b[1;34m'FollowMe'\u001b[0m\u001b[1;33m,\u001b[0m \u001b[1;34m'Rally'\u001b[0m\u001b[1;33m,\u001b[0m \u001b[1;34m'MoveForward'\u001b[0m\u001b[1;33m]\u001b[0m\u001b[1;33m,\u001b[0m \u001b[0myticklabels\u001b[0m \u001b[1;33m=\u001b[0m \u001b[1;33m[\u001b[0m \u001b[1;34m'idle'\u001b[0m\u001b[1;33m,\u001b[0m \u001b[1;34m'MoveInReverse'\u001b[0m\u001b[1;33m,\u001b[0m \u001b[1;34m'Halt'\u001b[0m\u001b[1;33m,\u001b[0m \u001b[1;34m'Attention'\u001b[0m\u001b[1;33m,\u001b[0m \u001b[1;34m'Advance'\u001b[0m\u001b[1;33m,\u001b[0m \u001b[1;34m'FollowMe'\u001b[0m\u001b[1;33m,\u001b[0m \u001b[1;34m'Rally'\u001b[0m\u001b[1;33m,\u001b[0m \u001b[1;34m'MoveForward'\u001b[0m\u001b[1;33m]\u001b[0m\u001b[1;33m,\u001b[0m \u001b[0mcmap\u001b[0m\u001b[1;33m=\u001b[0m\u001b[1;34m'blue'\u001b[0m\u001b[1;33m)\u001b[0m\u001b[1;33m\u001b[0m\u001b[1;33m\u001b[0m\u001b[0m\n\u001b[0;32m      3\u001b[0m \u001b[0mA\u001b[0m\u001b[1;33m.\u001b[0m\u001b[0mset_xlabel\u001b[0m\u001b[1;33m(\u001b[0m\u001b[1;34m\"Predicted Labels\"\u001b[0m\u001b[1;33m)\u001b[0m\u001b[1;33m\u001b[0m\u001b[1;33m\u001b[0m\u001b[0m\n\u001b[0;32m      4\u001b[0m \u001b[0mA\u001b[0m\u001b[1;33m.\u001b[0m\u001b[0mset_ylabel\u001b[0m\u001b[1;33m(\u001b[0m\u001b[1;34m\"True Labels\"\u001b[0m\u001b[1;33m)\u001b[0m\u001b[1;33m\u001b[0m\u001b[1;33m\u001b[0m\u001b[0m\n",
      "\u001b[1;32m~\\AppData\\Local\\Programs\\Python\\Python37\\lib\\site-packages\\seaborn\\__init__.py\u001b[0m in \u001b[0;36m<module>\u001b[1;34m\u001b[0m\n\u001b[0;32m      1\u001b[0m \u001b[1;31m# Import seaborn objects\u001b[0m\u001b[1;33m\u001b[0m\u001b[1;33m\u001b[0m\u001b[1;33m\u001b[0m\u001b[0m\n\u001b[1;32m----> 2\u001b[1;33m \u001b[1;32mfrom\u001b[0m \u001b[1;33m.\u001b[0m\u001b[0mrcmod\u001b[0m \u001b[1;32mimport\u001b[0m \u001b[1;33m*\u001b[0m  \u001b[1;31m# noqa: F401,F403\u001b[0m\u001b[1;33m\u001b[0m\u001b[1;33m\u001b[0m\u001b[0m\n\u001b[0m\u001b[0;32m      3\u001b[0m \u001b[1;32mfrom\u001b[0m \u001b[1;33m.\u001b[0m\u001b[0mutils\u001b[0m \u001b[1;32mimport\u001b[0m \u001b[1;33m*\u001b[0m  \u001b[1;31m# noqa: F401,F403\u001b[0m\u001b[1;33m\u001b[0m\u001b[1;33m\u001b[0m\u001b[0m\n\u001b[0;32m      4\u001b[0m \u001b[1;32mfrom\u001b[0m \u001b[1;33m.\u001b[0m\u001b[0mpalettes\u001b[0m \u001b[1;32mimport\u001b[0m \u001b[1;33m*\u001b[0m  \u001b[1;31m# noqa: F401,F403\u001b[0m\u001b[1;33m\u001b[0m\u001b[1;33m\u001b[0m\u001b[0m\n\u001b[0;32m      5\u001b[0m \u001b[1;32mfrom\u001b[0m \u001b[1;33m.\u001b[0m\u001b[0mrelational\u001b[0m \u001b[1;32mimport\u001b[0m \u001b[1;33m*\u001b[0m  \u001b[1;31m# noqa: F401,F403\u001b[0m\u001b[1;33m\u001b[0m\u001b[1;33m\u001b[0m\u001b[0m\n",
      "\u001b[1;32m~\\AppData\\Local\\Programs\\Python\\Python37\\lib\\site-packages\\seaborn\\rcmod.py\u001b[0m in \u001b[0;36m<module>\u001b[1;34m\u001b[0m\n\u001b[0;32m      5\u001b[0m \u001b[1;32mimport\u001b[0m \u001b[0mmatplotlib\u001b[0m \u001b[1;32mas\u001b[0m \u001b[0mmpl\u001b[0m\u001b[1;33m\u001b[0m\u001b[1;33m\u001b[0m\u001b[0m\n\u001b[0;32m      6\u001b[0m \u001b[1;32mfrom\u001b[0m \u001b[0mcycler\u001b[0m \u001b[1;32mimport\u001b[0m \u001b[0mcycler\u001b[0m\u001b[1;33m\u001b[0m\u001b[1;33m\u001b[0m\u001b[0m\n\u001b[1;32m----> 7\u001b[1;33m \u001b[1;32mfrom\u001b[0m \u001b[1;33m.\u001b[0m \u001b[1;32mimport\u001b[0m \u001b[0mpalettes\u001b[0m\u001b[1;33m\u001b[0m\u001b[1;33m\u001b[0m\u001b[0m\n\u001b[0m\u001b[0;32m      8\u001b[0m \u001b[1;33m\u001b[0m\u001b[0m\n\u001b[0;32m      9\u001b[0m \u001b[1;33m\u001b[0m\u001b[0m\n",
      "\u001b[1;32m~\\AppData\\Local\\Programs\\Python\\Python37\\lib\\site-packages\\seaborn\\palettes.py\u001b[0m in \u001b[0;36m<module>\u001b[1;34m\u001b[0m\n\u001b[0;32m      7\u001b[0m \u001b[1;32mfrom\u001b[0m \u001b[1;33m.\u001b[0m\u001b[0mexternal\u001b[0m \u001b[1;32mimport\u001b[0m \u001b[0mhusl\u001b[0m\u001b[1;33m\u001b[0m\u001b[1;33m\u001b[0m\u001b[0m\n\u001b[0;32m      8\u001b[0m \u001b[1;33m\u001b[0m\u001b[0m\n\u001b[1;32m----> 9\u001b[1;33m \u001b[1;32mfrom\u001b[0m \u001b[1;33m.\u001b[0m\u001b[0mutils\u001b[0m \u001b[1;32mimport\u001b[0m \u001b[0mdesaturate\u001b[0m\u001b[1;33m,\u001b[0m \u001b[0mget_color_cycle\u001b[0m\u001b[1;33m\u001b[0m\u001b[1;33m\u001b[0m\u001b[0m\n\u001b[0m\u001b[0;32m     10\u001b[0m \u001b[1;32mfrom\u001b[0m \u001b[1;33m.\u001b[0m\u001b[0mcolors\u001b[0m \u001b[1;32mimport\u001b[0m \u001b[0mxkcd_rgb\u001b[0m\u001b[1;33m,\u001b[0m \u001b[0mcrayons\u001b[0m\u001b[1;33m\u001b[0m\u001b[1;33m\u001b[0m\u001b[0m\n\u001b[0;32m     11\u001b[0m \u001b[1;33m\u001b[0m\u001b[0m\n",
      "\u001b[1;32m~\\AppData\\Local\\Programs\\Python\\Python37\\lib\\site-packages\\seaborn\\utils.py\u001b[0m in \u001b[0;36m<module>\u001b[1;34m\u001b[0m\n\u001b[0;32m      9\u001b[0m \u001b[1;32mimport\u001b[0m \u001b[0mnumpy\u001b[0m \u001b[1;32mas\u001b[0m \u001b[0mnp\u001b[0m\u001b[1;33m\u001b[0m\u001b[1;33m\u001b[0m\u001b[0m\n\u001b[0;32m     10\u001b[0m \u001b[1;32mfrom\u001b[0m \u001b[0mscipy\u001b[0m \u001b[1;32mimport\u001b[0m \u001b[0mstats\u001b[0m\u001b[1;33m\u001b[0m\u001b[1;33m\u001b[0m\u001b[0m\n\u001b[1;32m---> 11\u001b[1;33m \u001b[1;32mimport\u001b[0m \u001b[0mpandas\u001b[0m \u001b[1;32mas\u001b[0m \u001b[0mpd\u001b[0m\u001b[1;33m\u001b[0m\u001b[1;33m\u001b[0m\u001b[0m\n\u001b[0m\u001b[0;32m     12\u001b[0m \u001b[1;32mimport\u001b[0m \u001b[0mmatplotlib\u001b[0m \u001b[1;32mas\u001b[0m \u001b[0mmpl\u001b[0m\u001b[1;33m\u001b[0m\u001b[1;33m\u001b[0m\u001b[0m\n\u001b[0;32m     13\u001b[0m \u001b[1;32mimport\u001b[0m \u001b[0mmatplotlib\u001b[0m\u001b[1;33m.\u001b[0m\u001b[0mcolors\u001b[0m \u001b[1;32mas\u001b[0m \u001b[0mmplcol\u001b[0m\u001b[1;33m\u001b[0m\u001b[1;33m\u001b[0m\u001b[0m\n",
      "\u001b[1;32m~\\AppData\\Local\\Programs\\Python\\Python37\\lib\\site-packages\\pandas\\__init__.py\u001b[0m in \u001b[0;36m<module>\u001b[1;34m\u001b[0m\n\u001b[0;32m    177\u001b[0m \u001b[1;33m\u001b[0m\u001b[0m\n\u001b[0;32m    178\u001b[0m \u001b[1;32mfrom\u001b[0m \u001b[0mpandas\u001b[0m\u001b[1;33m.\u001b[0m\u001b[0mutil\u001b[0m\u001b[1;33m.\u001b[0m\u001b[0m_tester\u001b[0m \u001b[1;32mimport\u001b[0m \u001b[0mtest\u001b[0m\u001b[1;33m\u001b[0m\u001b[1;33m\u001b[0m\u001b[0m\n\u001b[1;32m--> 179\u001b[1;33m \u001b[1;32mimport\u001b[0m \u001b[0mpandas\u001b[0m\u001b[1;33m.\u001b[0m\u001b[0mtesting\u001b[0m\u001b[1;33m\u001b[0m\u001b[1;33m\u001b[0m\u001b[0m\n\u001b[0m\u001b[0;32m    180\u001b[0m \u001b[1;32mimport\u001b[0m \u001b[0mpandas\u001b[0m\u001b[1;33m.\u001b[0m\u001b[0marrays\u001b[0m\u001b[1;33m\u001b[0m\u001b[1;33m\u001b[0m\u001b[0m\n\u001b[0;32m    181\u001b[0m \u001b[1;33m\u001b[0m\u001b[0m\n",
      "\u001b[1;32m~\\AppData\\Local\\Programs\\Python\\Python37\\lib\\site-packages\\pandas\\testing.py\u001b[0m in \u001b[0;36m<module>\u001b[1;34m\u001b[0m\n\u001b[0;32m      4\u001b[0m \u001b[1;33m\u001b[0m\u001b[0m\n\u001b[0;32m      5\u001b[0m \u001b[1;33m\u001b[0m\u001b[0m\n\u001b[1;32m----> 6\u001b[1;33m from pandas._testing import (\n\u001b[0m\u001b[0;32m      7\u001b[0m     \u001b[0massert_extension_array_equal\u001b[0m\u001b[1;33m,\u001b[0m\u001b[1;33m\u001b[0m\u001b[1;33m\u001b[0m\u001b[0m\n\u001b[0;32m      8\u001b[0m     \u001b[0massert_frame_equal\u001b[0m\u001b[1;33m,\u001b[0m\u001b[1;33m\u001b[0m\u001b[1;33m\u001b[0m\u001b[0m\n",
      "\u001b[1;32m~\\AppData\\Local\\Programs\\Python\\Python37\\lib\\site-packages\\pandas\\_testing\\__init__.py\u001b[0m in \u001b[0;36m<module>\u001b[1;34m\u001b[0m\n\u001b[0;32m    946\u001b[0m \u001b[1;33m\u001b[0m\u001b[0m\n\u001b[0;32m    947\u001b[0m \u001b[1;33m\u001b[0m\u001b[0m\n\u001b[1;32m--> 948\u001b[1;33m \u001b[0mcython_table\u001b[0m \u001b[1;33m=\u001b[0m \u001b[0mpd\u001b[0m\u001b[1;33m.\u001b[0m\u001b[0mcore\u001b[0m\u001b[1;33m.\u001b[0m\u001b[0mcommon\u001b[0m\u001b[1;33m.\u001b[0m\u001b[0m_cython_table\u001b[0m\u001b[1;33m.\u001b[0m\u001b[0mitems\u001b[0m\u001b[1;33m(\u001b[0m\u001b[1;33m)\u001b[0m\u001b[1;33m\u001b[0m\u001b[1;33m\u001b[0m\u001b[0m\n\u001b[0m\u001b[0;32m    949\u001b[0m \u001b[1;33m\u001b[0m\u001b[0m\n\u001b[0;32m    950\u001b[0m \u001b[1;33m\u001b[0m\u001b[0m\n",
      "\u001b[1;31mAttributeError\u001b[0m: module 'pandas' has no attribute 'core'"
     ]
    }
   ],
   "source": [
    "import seaborn as sns\n",
    "A = sns.heatmap(conf_matrix, annot=True, xticklabels = [ 'idle', 'MoveInReverse', 'Halt', 'Attention', 'Advance', 'FollowMe', 'Rally', 'MoveForward'], yticklabels = [ 'idle', 'MoveInReverse', 'Halt', 'Attention', 'Advance', 'FollowMe', 'Rally', 'MoveForward'], cmap='blue')\n",
    "A.set_xlabel(\"Predicted Labels\")\n",
    "A.set_ylabel(\"True Labels\")"
   ]
  },
  {
   "cell_type": "code",
   "execution_count": 53,
   "id": "3f5e7e00-2b8d-4654-95f6-7181f3b24003",
   "metadata": {},
   "outputs": [],
   "source": [
    "loss = np.array(loss).astype(np.float)\n",
    "Accuracy = np.array(Accuracy).astype(np.float)"
   ]
  },
  {
   "cell_type": "code",
   "execution_count": 55,
   "id": "281d5cfd-53b4-4d53-b982-127ae8e5d94d",
   "metadata": {},
   "outputs": [
    {
     "data": {
      "image/png": "[encoded data removed]",
      "text/plain": [
       "<Figure size 432x288 with 1 Axes>"
      ]
     },
     "metadata": {
      "needs_background": "light"
     },
     "output_type": "display_data"
    },
    {
     "data": {
      "image/png": "[encoded data removed]",
      "text/plain": [
       "<Figure size 432x288 with 1 Axes>"
      ]
     },
     "metadata": {
      "needs_background": "light"
     },
     "output_type": "display_data"
    }
   ],
   "source": [
    "import matplotlib.pyplot as plt\n",
    "\n",
    "plt.figure()\n",
    "plt.plot(np.arange(350), [i for i in Accuracy], label = \"Train Accuracy\")\n",
    "plt.xlabel(\"Iterations\")\n",
    "plt.ylabel(\"Accuracies (%)\")\n",
    "plt.legend(loc=\"best\")\n",
    "plt.title(\"Average Accuracies (%) vs Iterations\")\n",
    "plt.show()\n",
    "\n",
    "plt.figure()\n",
    "plt.plot(np.arange(350), [i for i in loss], label = \"Train Loss\")\n",
    "plt.xlabel(\"Iterations\")\n",
    "plt.ylabel(\"Loss\")\n",
    "plt.legend(loc=\"best\")\n",
    "plt.title(\"Average Loss vs Iterations\")\n",
    "plt.show()"
   ]
  },
  {
   "cell_type": "code",
   "execution_count": 17,
   "id": "6625d23e-6560-4a15-ba32-de7b26512a84",
   "metadata": {},
   "outputs": [
    {
     "data": {
      "text/plain": [
       "5"
      ]
     },
     "execution_count": 17,
     "metadata": {},
     "output_type": "execute_result"
    }
   ],
   "source": [
    "len(\"1_adv\")"
   ]
  },
  {
   "cell_type": "code",
   "execution_count": null,
   "id": "a7ad04d4-7c73-4968-9d86-46a0051255a5",
   "metadata": {},
   "outputs": [],
   "source": []
  }
 ],
 "metadata": {
  "kernelspec": {
   "display_name": "Python 3 (ipykernel)",
   "language": "python",
   "name": "python3"
  },
  "language_info": {
   "codemirror_mode": {
    "name": "ipython",
    "version": 3
   },
   "file_extension": ".py",
   "mimetype": "text/x-python",
   "name": "python",
   "nbconvert_exporter": "python",
   "pygments_lexer": "ipython3",
   "version": "3.7.11"
  }
 },
 "nbformat": 4,
 "nbformat_minor": 5
}
